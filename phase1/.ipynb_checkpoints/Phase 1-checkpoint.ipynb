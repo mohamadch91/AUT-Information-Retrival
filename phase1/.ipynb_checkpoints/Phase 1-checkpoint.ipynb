{
 "cells": [
  {
   "cell_type": "markdown",
   "id": "d19287de",
   "metadata": {},
   "source": [
    "# Information retrival project phase 1"
   ]
  },
  {
   "cell_type": "markdown",
   "id": "e7cd227b",
   "metadata": {},
   "source": [
    "## Import libraries"
   ]
  },
  {
   "cell_type": "code",
   "execution_count": 36,
   "id": "7a7b7106",
   "metadata": {},
   "outputs": [],
   "source": [
    "from hazm import *\n",
    "from __future__ import unicode_literals\n",
    "# from parsivar import *\n",
    "import json\n",
    "import string\n",
    "from hazm import stopwords_list\n",
    "from copy import deepcopy"
   ]
  },
  {
   "cell_type": "markdown",
   "id": "4f0c93a7",
   "metadata": {},
   "source": [
    "## Reading Json file"
   ]
  },
  {
   "cell_type": "code",
   "execution_count": 37,
   "id": "4059df9a",
   "metadata": {},
   "outputs": [],
   "source": [
    "file=open(\"IR_data_news_12k.json\")\n",
    "data=json.load(file)"
   ]
  },
  {
   "cell_type": "markdown",
   "id": "cb3dbd23",
   "metadata": {},
   "source": [
    "## create empty arrays to store contents"
   ]
  },
  {
   "cell_type": "code",
   "execution_count": 38,
   "id": "a2cded74",
   "metadata": {},
   "outputs": [],
   "source": [
    "data_content=[]\n",
    "data_url=[]\n",
    "data_title=[]"
   ]
  },
  {
   "cell_type": "markdown",
   "id": "57310754",
   "metadata": {},
   "source": [
    "## store content in arrays "
   ]
  },
  {
   "cell_type": "code",
   "execution_count": 39,
   "id": "580d6cca",
   "metadata": {},
   "outputs": [],
   "source": [
    "for i in range(len(data)):\n",
    "    index=str(i)\n",
    "    data_content.append(data[\"\"+index][\"content\"])\n",
    "    data_url.append(data[\"\"+index][\"url\"])\n",
    "    data_title.append(data[\"\"+index][\"title\"])"
   ]
  },
  {
   "cell_type": "code",
   "execution_count": 40,
   "id": "da73b1aa",
   "metadata": {
    "scrolled": false
   },
   "outputs": [],
   "source": [
    "#comment after complete\n",
    "data_content=data_content[:10]"
   ]
  },
  {
   "cell_type": "markdown",
   "id": "95133196",
   "metadata": {},
   "source": [
    "## define new array for tokenize"
   ]
  },
  {
   "cell_type": "code",
   "execution_count": 41,
   "id": "ce8eea3d",
   "metadata": {},
   "outputs": [],
   "source": [
    "data_tokens=[]"
   ]
  },
  {
   "cell_type": "markdown",
   "id": "7e7c7107",
   "metadata": {},
   "source": [
    "# preproccesing start"
   ]
  },
  {
   "cell_type": "markdown",
   "id": "162c1ea4",
   "metadata": {},
   "source": [
    "## normalize contents\n",
    "tokenize and stemmer and lematize"
   ]
  },
  {
   "cell_type": "code",
   "execution_count": 42,
   "id": "266fb230",
   "metadata": {},
   "outputs": [],
   "source": [
    "normalizer = Normalizer()\n",
    "stemmer = Stemmer()\n",
    "stop_words=set(stopwords_list())\n",
    "lemmatizer = Lemmatizer()\n"
   ]
  },
  {
   "cell_type": "markdown",
   "id": "b790a9cd",
   "metadata": {},
   "source": [
    "## define punctuations"
   ]
  },
  {
   "cell_type": "code",
   "execution_count": 43,
   "id": "3709c8e0",
   "metadata": {},
   "outputs": [],
   "source": [
    "punctuations=string.punctuation \n",
    "temp_list=set()\n",
    "for i in punctuations:\n",
    "    temp_list.add(i)\n",
    "temp_list.add('،')\n",
    "temp_list.add('.')\n",
    "temp_list.add(':')\n",
    "punctuations=temp_list.copy()"
   ]
  },
  {
   "cell_type": "markdown",
   "id": "fc26ac93",
   "metadata": {},
   "source": [
    "### loop over te content and preprocess"
   ]
  },
  {
   "cell_type": "code",
   "execution_count": 45,
   "id": "75af7c9d",
   "metadata": {},
   "outputs": [],
   "source": [
    "for j in range (len(data_content)):\n",
    "    data_content[j]=normalizer.normalize(data_content[j])\n",
    "    new_contents=word_tokenize(data_content[j])\n",
    "    temp_contents=deepcopy(new_contents)\n",
    "    for k in range(len(temp_contents)):\n",
    "        if(temp_contents[k] in stop_words):\n",
    "            new_contents.remove(temp_contents[k])    \n",
    "        if(temp_contents[k] in punctuations): \n",
    "            new_contents.remove(temp_contents[k])\n",
    "    for k in range(len(new_contents)):\n",
    "        new_contents[k]=lemmatizer.lemmatize(new_contents[k])\n",
    "#         new_contents[k]=stemmer.stem(new_contents[k])\n",
    "    data_tokens.append(new_contents)            \n",
    "            \n",
    "            "
   ]
  },
  {
   "cell_type": "code",
   "execution_count": 48,
   "id": "839a874e",
   "metadata": {},
   "outputs": [
    {
     "data": {
      "text/plain": [
       "['گزارش',\n",
       " 'خبرنگار',\n",
       " 'ورزش',\n",
       " 'خبرگزاری',\n",
       " 'فارس',\n",
       " 'تمرین',\n",
       " 'امروز',\n",
       " 'استقلال',\n",
       " 'شرایط',\n",
       " 'برگزار',\n",
       " 'محمد',\n",
       " 'دانشگر',\n",
       " 'مدافع',\n",
       " 'مصدوم',\n",
       " 'تیم',\n",
       " 'تمرینات',\n",
       " 'تیمش',\n",
       " 'شرکت',\n",
       " 'بازیکن',\n",
       " 'روز',\n",
       " 'گذشته',\n",
       " 'تمرین',\n",
       " 'تیمش',\n",
       " 'برنامه',\n",
       " 'اختصاص',\n",
       " 'پرداخت',\n",
       " 'صورت',\n",
       " 'سبک',\n",
       " 'تمرین',\n",
       " 'امروز',\n",
       " 'تمرین',\n",
       " 'تیمش',\n",
       " 'حضور',\n",
       " 'تیم',\n",
       " 'فوتبال',\n",
       " 'استقلال',\n",
       " 'درب',\n",
       " 'روز',\n",
       " 'پنجشنبه',\n",
       " 'آماده',\n",
       " 'انتهای',\n",
       " 'پیام/']"
      ]
     },
     "execution_count": 48,
     "metadata": {},
     "output_type": "execute_result"
    }
   ],
   "source": [
    "indexing words \n",
    "making words indexing in contents"
   ]
  },
  {
   "cell_type": "code",
   "execution_count": null,
   "id": "fbbaacbe",
   "metadata": {},
   "outputs": [],
   "source": []
  },
  {
   "cell_type": "code",
   "execution_count": null,
   "id": "d0981076",
   "metadata": {},
   "outputs": [],
   "source": []
  },
  {
   "cell_type": "code",
   "execution_count": null,
   "id": "29bd1a0b",
   "metadata": {},
   "outputs": [],
   "source": []
  }
 ],
 "metadata": {
  "kernelspec": {
   "display_name": "Python 3",
   "language": "python",
   "name": "python3"
  },
  "language_info": {
   "codemirror_mode": {
    "name": "ipython",
    "version": 3
   },
   "file_extension": ".py",
   "mimetype": "text/x-python",
   "name": "python",
   "nbconvert_exporter": "python",
   "pygments_lexer": "ipython3",
   "version": "3.9.2"
  }
 },
 "nbformat": 4,
 "nbformat_minor": 5
}
