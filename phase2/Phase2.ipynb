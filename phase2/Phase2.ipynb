{
 "cells": [
  {
   "cell_type": "markdown",
   "id": "7596c4f3",
   "metadata": {},
   "source": [
    "# phase 2\n"
   ]
  },
  {
   "cell_type": "markdown",
   "id": "f68bef61",
   "metadata": {},
   "source": [
    "## importing librarie\n"
   ]
  },
  {
   "cell_type": "code",
   "execution_count": 1,
   "id": "8f043e18",
   "metadata": {},
   "outputs": [],
   "source": [
    "from hazm import *\n",
    "from __future__ import unicode_literals\n",
    "# from parsivar import *\n",
    "import json\n",
    "import string\n",
    "from hazm import stopwords_list\n",
    "from copy import copy\n",
    "from matplotlib import pyplot as plt\n",
    "\n",
    "import math"
   ]
  },
  {
   "cell_type": "markdown",
   "id": "404464c0",
   "metadata": {},
   "source": [
    "## Reading Json file"
   ]
  },
  {
   "cell_type": "code",
   "execution_count": 2,
   "id": "2081995b",
   "metadata": {},
   "outputs": [],
   "source": [
    "file=open(\"IR_data_news_12k.json\")\n",
    "data=json.load(file)"
   ]
  },
  {
   "cell_type": "markdown",
   "id": "f72a2724",
   "metadata": {},
   "source": [
    "## create empty arrays to store contents\n"
   ]
  },
  {
   "cell_type": "code",
   "execution_count": 3,
   "id": "1b9f81e3",
   "metadata": {},
   "outputs": [],
   "source": [
    "data_content=[]\n",
    "data_url=[]\n",
    "data_title=[]"
   ]
  },
  {
   "cell_type": "markdown",
   "id": "6262eff8",
   "metadata": {},
   "source": [
    "## store content in arrays "
   ]
  },
  {
   "cell_type": "code",
   "execution_count": 4,
   "id": "9707e84a",
   "metadata": {},
   "outputs": [],
   "source": [
    "for i in range(len(data)):\n",
    "    index=str(i)\n",
    "    data_content.append(data[\"\"+index][\"content\"])\n",
    "    data_url.append(data[\"\"+index][\"url\"])\n",
    "    data_title.append(data[\"\"+index][\"title\"])"
   ]
  },
  {
   "cell_type": "code",
   "execution_count": 5,
   "id": "fceac120",
   "metadata": {},
   "outputs": [],
   "source": [
    "#comment after complete\n",
    "# data_content=data_content[:10]"
   ]
  },
  {
   "cell_type": "markdown",
   "id": "388de0bd",
   "metadata": {},
   "source": [
    "## define new array for tokenize"
   ]
  },
  {
   "cell_type": "code",
   "execution_count": 6,
   "id": "da27f569",
   "metadata": {},
   "outputs": [],
   "source": [
    "data_tokens=[]"
   ]
  },
  {
   "cell_type": "markdown",
   "id": "93746ce6",
   "metadata": {},
   "source": [
    "# preproccesing start"
   ]
  },
  {
   "cell_type": "markdown",
   "id": "5ba12c6a",
   "metadata": {},
   "source": [
    "## normalize contents\n",
    "tokenize and stemmer and lematize"
   ]
  },
  {
   "cell_type": "code",
   "execution_count": 7,
   "id": "47b20e31",
   "metadata": {},
   "outputs": [],
   "source": [
    "normalizer = Normalizer()\n",
    "stemmer = Stemmer()\n",
    "stop_words=set(stopwords_list())\n",
    "stop_words.add('\\u200cو')\n",
    "stop_words.add('\\u200cو')\n",
    "stop_words.add('و\\u200c')\n",
    "lemmatizer = Lemmatizer()"
   ]
  },
  {
   "cell_type": "markdown",
   "id": "a3b284cb",
   "metadata": {},
   "source": [
    "## define punctuations"
   ]
  },
  {
   "cell_type": "code",
   "execution_count": 8,
   "id": "f57f6b2e",
   "metadata": {},
   "outputs": [],
   "source": [
    "punctuations=string.punctuation \n",
    "temp_list=set()\n",
    "for i in punctuations:\n",
    "    temp_list.add(i)\n",
    "temp_list.add('،')\n",
    "temp_list.add('.')\n",
    "temp_list.add(':')\n",
    "punctuations=temp_list.copy()"
   ]
  },
  {
   "cell_type": "markdown",
   "id": "33b09a08",
   "metadata": {},
   "source": [
    "### loop over te content and preprocess"
   ]
  },
  {
   "cell_type": "code",
   "execution_count": 9,
   "id": "e3c9540a",
   "metadata": {},
   "outputs": [],
   "source": [
    "for j in range (len(data_content)):\n",
    "    data_content[j]=normalizer.normalize(data_content[j])\n",
    "    new_contents=word_tokenize(data_content[j])\n",
    "    temp_contents=copy(new_contents)\n",
    "    for k in range(len(temp_contents)):\n",
    "        if(temp_contents[k] in stop_words):\n",
    "            new_contents.remove(temp_contents[k])    \n",
    "        if(temp_contents[k] in punctuations):\n",
    "            new_contents.remove(temp_contents[k])\n",
    "    for k in range(len(new_contents)):\n",
    "        new_contents[k]=lemmatizer.lemmatize(new_contents[k])\n",
    "#         new_contents[k]=stemmer.stem(new_contents[k])\n",
    "\n",
    "    data_tokens.append(new_contents)            \n",
    "            "
   ]
  },
  {
   "cell_type": "code",
   "execution_count": null,
   "id": "9e16bb27",
   "metadata": {
    "scrolled": true
   },
   "outputs": [],
   "source": []
  },
  {
   "cell_type": "markdown",
   "id": "82867acb",
   "metadata": {},
   "source": [
    "## define function for find Tf"
   ]
  },
  {
   "cell_type": "code",
   "execution_count": 10,
   "id": "650486de",
   "metadata": {},
   "outputs": [],
   "source": [
    "def find_tf(content,word):\n",
    "    count=0\n",
    "    for i in content:\n",
    "        if(word==i):\n",
    "            count+=1\n",
    "      \n",
    "    return math.log(count)+1\n"
   ]
  },
  {
   "cell_type": "markdown",
   "id": "2aacf9e2",
   "metadata": {},
   "source": [
    "### indexing words \n",
    "making words indexing in contents"
   ]
  },
  {
   "cell_type": "markdown",
   "id": "98f1daa6",
   "metadata": {},
   "source": [
    "#### empty set for tokens index"
   ]
  },
  {
   "cell_type": "code",
   "execution_count": 11,
   "id": "7f56056c",
   "metadata": {},
   "outputs": [],
   "source": [
    "final_token=dict()"
   ]
  },
  {
   "cell_type": "markdown",
   "id": "95649445",
   "metadata": {},
   "source": [
    "## find Tf for each word and document"
   ]
  },
  {
   "cell_type": "code",
   "execution_count": 12,
   "id": "ffbb25ac",
   "metadata": {},
   "outputs": [],
   "source": [
    "for i in range(len(data_tokens)):\n",
    "    for j in range(len(data_tokens[i])):\n",
    "        if(data_tokens[i][j] in final_token):\n",
    "            temp_string=final_token[data_tokens[i][j]]\n",
    "            last_content=temp_string.split(\"|\")\n",
    "            no=int(last_content[len(last_content)-1].split(\":\")[0].split(\"c\")[1])\n",
    "            if(no==i):\n",
    "                count=last_content[len(last_content)-1].split(\":\")\n",
    "                temp_count=int(count[len(count)-1].split(\"_\")[1])\n",
    "                temp_count+=1\n",
    "                new_string=\"\"\n",
    "                for s in range(len(last_content)-1):\n",
    "                    new_string+=last_content[s]+\"|\"\n",
    "#                 print(last_content[len(last_content)-1])\n",
    "                last_item=last_content[len(last_content)-1].split(\"_\")[0]+\"_\"+str(temp_count)+\"_\"\n",
    "                new_string+=last_item\n",
    "                final_token[data_tokens[i][j]]=new_string\n",
    "            else: \n",
    "                final_token[data_tokens[i][j]]+=\"|\"+\"c\"+str(i)+\":\"+str(find_tf(data_tokens[i],data_tokens[i][j]))+\"_1_\"\n",
    "        else:\n",
    "            final_token[data_tokens[i][j]]=\"|\"+\"c\"+str(i)+\":\"+str(find_tf(data_tokens[i],data_tokens[i][j]))+\"_1_\"\n",
    "            \n"
   ]
  },
  {
   "cell_type": "code",
   "execution_count": null,
   "id": "124c67a0",
   "metadata": {},
   "outputs": [],
   "source": []
  },
  {
   "cell_type": "markdown",
   "id": "9c41ee05",
   "metadata": {},
   "source": [
    "##  calculating IDF"
   ]
  },
  {
   "cell_type": "markdown",
   "id": "79010a5b",
   "metadata": {},
   "source": [
    "##### function for calulating IDF"
   ]
  },
  {
   "cell_type": "code",
   "execution_count": 13,
   "id": "234efddc",
   "metadata": {},
   "outputs": [],
   "source": [
    "def idf(string):\n",
    "    temp_str=len(string.split(\"|\"))-1\n",
    "    return math.log(len(data_tokens)/temp_str)\n",
    "        "
   ]
  },
  {
   "cell_type": "code",
   "execution_count": 14,
   "id": "0d8a3109",
   "metadata": {},
   "outputs": [],
   "source": [
    "for i in final_token:\n",
    "    final_token[i]+=\"@\"+str(idf(final_token[i]))+\"@\""
   ]
  },
  {
   "cell_type": "code",
   "execution_count": null,
   "id": "7a10648a",
   "metadata": {},
   "outputs": [],
   "source": []
  },
  {
   "cell_type": "markdown",
   "id": "92a87863",
   "metadata": {},
   "source": [
    "### make champion list"
   ]
  },
  {
   "cell_type": "code",
   "execution_count": 15,
   "id": "376d4ecf",
   "metadata": {},
   "outputs": [],
   "source": [
    "temp_token=dict()\n",
    "for i in final_token:\n",
    "    string=final_token[i].split(\"|\")[1:]\n",
    "    idf=final_token[i].split(\"@\")[1]\n",
    "    new_arr=[]\n",
    "    if(len(string)>=5):\n",
    "        for j in range(5):\n",
    "            maximum=-1\n",
    "            maxstr=\"\"\n",
    "            for k in string:\n",
    "                tf=float(k.split(\":\")[1].split(\"_\")[0])\n",
    "                if(maximum<=tf):\n",
    "                    maximum=tf\n",
    "                    maxstr=k\n",
    "            new_arr.append(maxstr)\n",
    "            string.remove(maxstr)\n",
    "        ans=\"\"\n",
    "        for j in new_arr:\n",
    "            ans+=\"|\"+j\n",
    "        ans+=\"@\"+idf+\"@\"    \n",
    "        temp_token[i]=ans\n",
    "        \n",
    "    else:\n",
    "        temp_token[i]=final_token[i]\n",
    "            \n",
    "    "
   ]
  },
  {
   "cell_type": "code",
   "execution_count": null,
   "id": "fb9011a4",
   "metadata": {},
   "outputs": [],
   "source": []
  },
  {
   "cell_type": "code",
   "execution_count": 16,
   "id": "4b6b26f8",
   "metadata": {},
   "outputs": [],
   "source": [
    "final_token=temp_token"
   ]
  },
  {
   "cell_type": "code",
   "execution_count": null,
   "id": "57ec8ca7",
   "metadata": {},
   "outputs": [],
   "source": []
  },
  {
   "cell_type": "markdown",
   "id": "14cbb9bc",
   "metadata": {},
   "source": [
    "## make vector for each doc"
   ]
  },
  {
   "cell_type": "code",
   "execution_count": null,
   "id": "9c927a99",
   "metadata": {},
   "outputs": [],
   "source": []
  },
  {
   "cell_type": "code",
   "execution_count": 17,
   "id": "fbf57e8c",
   "metadata": {},
   "outputs": [],
   "source": [
    "doc_vector=[]\n"
   ]
  },
  {
   "cell_type": "code",
   "execution_count": 18,
   "id": "7c0c176a",
   "metadata": {},
   "outputs": [],
   "source": [
    "for i in range(len(data_tokens)):\n",
    "    vector=[]\n",
    "    sum_tf_idf=0\n",
    "    for j in range(len(data_tokens[i])):\n",
    "        term=data_tokens[i][j]\n",
    "        term_data=final_token[term]\n",
    "        \n",
    "        tf_idf=-1\n",
    "#         print(term_data.split(\"@\")[len(term_data.split(\"@\"))-2]\n",
    "        idf=float(term_data.split(\"@\")[len(term_data.split(\"@\"))-2])\n",
    "        term_data=term_data.split(\"|\")[1:]\n",
    "        for k in term_data:\n",
    "            doc_no=int(k.split(\":\")[0].split(\"c\")[1])\n",
    "            if(i==doc_no):\n",
    "#                 print(k.split(\":\")[1].split(\"_\"))\n",
    "                tf=float(k.split(\":\")[1].split(\"_\")[0])\n",
    "                tf_idf=tf*idf\n",
    "        sum_tf_idf+=(tf_idf*tf_idf)\n",
    "#         print(term)\n",
    "#         print(tf_idf)\n",
    "        vector.append(term+\":\"+str(tf_idf))  \n",
    "    sum_tf_idf=math.sqrt(sum_tf_idf)   \n",
    "    for j in range(len(vector)):\n",
    "        word=vector[j].split(\":\")[0]\n",
    "#         print(vector[j].split(\":\"))\n",
    "        if(len(vector[j].split(\":\"))>2):\n",
    "                tf_idf=float(vector[j].split(\":\")[2])\n",
    "        else:        \n",
    "            tf_idf=float(vector[j].split(\":\")[1])\n",
    "        tf_idf/=sum_tf_idf\n",
    "        vector[j]=word+\":\"+str(tf_idf)\n",
    "        \n",
    "    doc_vector.append(vector)         "
   ]
  },
  {
   "cell_type": "markdown",
   "id": "2e027798",
   "metadata": {},
   "source": [
    "### nomalize"
   ]
  },
  {
   "cell_type": "code",
   "execution_count": null,
   "id": "c20e1706",
   "metadata": {},
   "outputs": [],
   "source": []
  },
  {
   "cell_type": "markdown",
   "id": "1528e04e",
   "metadata": {},
   "source": [
    "# User input Query\n",
    "get input from user to proccess query"
   ]
  },
  {
   "cell_type": "code",
   "execution_count": 47,
   "id": "7eff20e7",
   "metadata": {},
   "outputs": [
    {
     "name": "stdout",
     "output_type": "stream",
     "text": [
      "please enter your input : قوتبال محمد صلاح\n"
     ]
    }
   ],
   "source": [
    "query=input(\"please enter your input : \")"
   ]
  },
  {
   "cell_type": "markdown",
   "id": "0845b313",
   "metadata": {},
   "source": [
    "##### process input"
   ]
  },
  {
   "cell_type": "code",
   "execution_count": 48,
   "id": "1306e2ac",
   "metadata": {},
   "outputs": [],
   "source": [
    "query=query.split(\" \")"
   ]
  },
  {
   "cell_type": "code",
   "execution_count": 49,
   "id": "c0ffe1f8",
   "metadata": {},
   "outputs": [],
   "source": [
    "query_vector=dict()\n",
    "tf_sum=0"
   ]
  },
  {
   "cell_type": "code",
   "execution_count": 50,
   "id": "bd995d82",
   "metadata": {},
   "outputs": [],
   "source": [
    "for i in query:\n",
    "    tf=find_tf(query,i)\n",
    "    idf=0\n",
    "    if(i in final_token):\n",
    "        temp=final_token[i]  \n",
    "        idf=float(temp.split(\"@\")[1])\n",
    "    tf_idf=tf*idf    \n",
    "    tf_sum+=(tf_idf*tf_idf)\n",
    "    query_vector[i]=tf_idf\n",
    "math.sqrt(tf_sum)\n",
    "if(tf_sum!=0):\n",
    "    for k in query_vector:\n",
    "        query_vector[k]/=tf_sum\n",
    "    "
   ]
  },
  {
   "cell_type": "code",
   "execution_count": 51,
   "id": "b28e4c3a",
   "metadata": {},
   "outputs": [
    {
     "data": {
      "text/plain": [
       "{'قوتبال': 0.0, 'محمد': 0.09151201119665377, 'صلاح': 0.19073253605351434}"
      ]
     },
     "execution_count": 51,
     "metadata": {},
     "output_type": "execute_result"
    }
   ],
   "source": [
    " query_vector"
   ]
  },
  {
   "cell_type": "code",
   "execution_count": 52,
   "id": "05a8ca3f",
   "metadata": {},
   "outputs": [],
   "source": [
    "docs_ans=[]\n",
    "docs_ans_no=[]\n",
    "for j in range(len(data_tokens)):\n",
    "        ans=0\n",
    "        doc_no=-1\n",
    "        for i in query_vector:\n",
    "            if i in data_tokens[j]:\n",
    "                counter=1\n",
    "                for k in range(len(doc_vector[j])):\n",
    "                    word=doc_vector[j][k].split(\":\")\n",
    "                    if(i==word[0]):\n",
    "                        if(counter==1):\n",
    "#                             print(word)\n",
    "#                             print(query_vector[i])\n",
    "#                             print(word[1])\n",
    "                            ans+=query_vector[i]*float(word[1])\n",
    "                            doc_no=j\n",
    "                            counter-=1\n",
    "        if(ans!=0):\n",
    "            docs_ans.append(ans)\n",
    "            docs_ans_no.append(doc_no)"
   ]
  },
  {
   "cell_type": "code",
   "execution_count": 53,
   "id": "e9f75bd2",
   "metadata": {
    "scrolled": true
   },
   "outputs": [],
   "source": [
    "# docs_ans"
   ]
  },
  {
   "cell_type": "code",
   "execution_count": 54,
   "id": "cf9f6b34",
   "metadata": {},
   "outputs": [],
   "source": [
    "# docs_ans_no"
   ]
  },
  {
   "cell_type": "markdown",
   "id": "ee7d3e3e",
   "metadata": {},
   "source": [
    "# show answers "
   ]
  },
  {
   "cell_type": "code",
   "execution_count": 55,
   "id": "528a7d1b",
   "metadata": {
    "scrolled": false
   },
   "outputs": [
    {
     "name": "stdout",
     "output_type": "stream",
     "text": [
      "answer 1: \n",
      "title: کلوپ، کی‌روش را قانع نکرد/ مرد پرتغالی برای صلاح پزشک مخصوص فرستاد\n",
      "url: https://www.farsnews.ir/news/14001222000471/کلوپ-کی‌روش-را-قانع-نکرد-مرد-پرتغالی-برای-صلاح-پزشک-مخصوص-فرستاد\n",
      "135\n",
      "\n",
      "به گزارش خبرگزاری فارس، سایت «کورا» مصر از نگرانی کارلوس کی روش سرمربی اسبق ایران و کنونی تیم ملی مصر از مصدومیت محمد صلاح ستاره ملی پوش لیورپول خبر داد. این رسانه مصری نوشت: محمد صلاح ستاره تیم ملی مصر در بازی لیورپول با برایتون مصدوم و در دقیقه ۶۵ بازی مجبور به ترک زمین شد. مصدومیت کاپیتان فراعنه باعث شد تا کارلوس کی روش نگران این ستاره خود باشد. تیم ملی مصر خود را برای بازی با سنگال در مقدماتی جام جهانی ۲۰۲۲ آماده می‌کند و حضور صلاح برای کی روش در این رقابت‌ها حیاتی است. به همین خاطر کارلوس کی روش پزشک تیم ملی مصر را عازم انگلیس کرد تا از نزدیک به درمان محمد صلاح نظارت داشته باشد. یورگلن کلوپ سرمربی لیورپول بعد از بازی اعلام کرد به نظر می‌رسد مصدومیت محمد صلاح جدی نیست اما با این اظهارات کلوپ کی روش راضی نشد و پزشک تیم ملی مصر را به انگلیس فرستاد. انتهای پیام/\n",
      "\n",
      "\n",
      "answer 2: \n",
      "title: کی‌روش برای لیورپول مشکل ساز شد+عکس\n",
      "url: https://www.farsnews.ir/news/14001001000209/کی‌روش-برای-لیورپول-مشکل-ساز-شد-عکس\n",
      "6387\n",
      "\n",
      "به گزارش خبرگزاری فارس، سایت «المیادین» خبر داد کارلوس کی روش سرمربی تیم ملی مصر برای باشگاه لیورپول به خاطر محمد صلاح مشکل ساز شد. کی روش درخواست باشگاه لیورپول به حضور با تاخیر محمد صلاح در اردوی فراعنه را نپذیرفت. تیم ملی مصر خود را برای مسابقات انتخابی جام جهانی ۲۰۲۲ آماده می‌کند. پیش از این باشگاه انگلیسی از فدراسیون مصر درخواست داده بود تا محمد صلاح با تاخیر به اردو ملحق شود ولی کی روش تنها مجوز حضور صلاح در بازی با لستر سیتی را داد و ستاره مصری نمی‌تواند تیمش را مقابل چلسی همراهی کند. کلوپ سرمربی لیورپول انتظار داشت فدراسیون مصر درخواست را قبول کند و صلاح بعد از بازی با چلسی به اردوی فراعنه ملحق شود ولی کی روش این اجازه را نداد و برای باشگاه انگلیسی مشکل ساز شد. طبق قوانین فیفا سرمربی تیم‌های ملی می‌توانند ۲۴ ساعت قبل از اردو بازیکنان خود را در اختیار داشته باشند. کی روش به دلیل نتایج ضعیفش در جام کشورهای عربی از سوی مصری‌ها مورد انتقاد شدید قرار گرفت و این روزها تحت فشار زیادی قرار دارد. انتهای پیام/ \n",
      "\n",
      "\n",
      "answer 3: \n",
      "title: صلاح تخت پادشاهی رونالدو را در اروپا به خطر انداخت\n",
      "url: https://www.farsnews.ir/news/14001128000562/صلاح-تخت-پادشاهی-رونالدو-را-در-اروپا-به-خطر-انداخت\n",
      "1986\n",
      "\n",
      "به گزارش خبرگزاری فارس، تیم فوتبال لیورپول شب گذشته در بازی رفت مرحله یک هشتم نهایی لیگ قهرمانان اروپا میهمان اینتر بود و با نتیجه ۲ بر صفر به پیروزی رسید. محمد صلاح ستاره مسلمان لیورپول در این بازی گل دوم لک لک‌ها را به ثمر رساند تا رکوردی در لیگ قهرمانان اروپا به نامش ثبت کند. شبکه «اوپتا» نوشت: محمد صلاح ستاره لیورپول در این بازی رکوردی جدید به نامش ثبت کرد. ستاره مصری در هشتمین بازی متوالی خارج از لیورپول در لیگ قهرمانان اروپا موفق به گلزنی شد. صلاح در ۸ بازی اخیر خارج از خانه لیورپول در لیگ قهرمانان اروپا موفق به گلزنی شده و در این زمینه تخت پادشاهی رونالدو را به خطر انداخته است. رونالدو با ۱۲ گل در ۱۲ بازی متوالی خارج از خانه با پیراهن رئال مادرید رکورددار است و صلاح در حال نزدیک شدن به رکورد ابرستاره پرتغالی است. صلاح در این فصل از لیگ قهرمانان اروپا نمی‌تواند رکورد رونالدو را بشکند ولی به گلزنی هایش ادامه دهد سال آینده می‌تواند به رکورد اسطوره فوتبال پرتغال برسد. انتهای پیام/ \n",
      "\n",
      "\n",
      "answer 4: \n",
      "title: دفتر تحکیم وحدت: با گذشت 2 سال از مجلس یازدهم، همچنان چشم‌انتظار «شفافیت آرا» هستیم\n",
      "url: https://www.farsnews.ir/news/14001208000345/دفتر-تحکیم-وحدت-با-گذشت-2-سال-از-مجلس-یازدهم-همچنان-چشم‌انتظار-شفافیت\n",
      "7387\n",
      "\n",
      "به گزارش حوزه تشکل‌های دانشگاهی خبرگزاری فارس، اتحادیه دفتر تحکیم وحدت در نامه‌ای به نمایندگان مجلس شورای اسلامی، نکاتی را درباره طرح «شفافیت آراء نمایندگان» تذکر داده است. در بخش‌هایی از این نامه آمده است: «عمده صلاح کشور به صلاح این نهاد (مجلس) بستگی دارد و عمده فساد کشور نیز به فساد این نهاد ارتباط دارد و شفافیت یا عدم شفافیت آرا، نه تنها نقش کلیدی در فساد و صلاح این نهاد که تاثیر عمده‌ای در فساد و صلاح عمومی جامعه دارد؛ چراکه دسترسی آزادانه به اطلاعات و علنی بودن آن شرط مقدم مقابله با فساد است. عده عدیدی از نمایندگان این دوره مجلس شورای اسلامی در زمان انتخابات مجلس با شعار شفافیت به جلب رای مردم پرداخته و با تاکید بر آن وارد مجلس شدند؛ اما مع‌الاسف با وجود گذشت ۲ سال از شروع به کار مجلس یازدهم، همچنان شاهد چشم انتظاری مردم در تحقق این شعار هستیم. رهبر انقلاب با اعتماد به شما، این دوره مجلس را انقلابی خواندند، در حالی که مجلس انقلابی مطالبه ایشان در بحث شفافیت را که «مسئول در جمهوری اسلامی عملکرد خودش را به طور واضح در اختیار مردم قرار بدهد» بر زمین گذاشته است. نامحرم دانستن مردم و فاصله گرفتن از آنان، تنها عاملی بر ایجاد سوء ظن مردم نسبت به مسئولان است؛ از همین رو امید می‌رود در ادامه شاهد تغییر مسیر از ذبح اعتماد ملی به جلب اعتماد عمومی باشیم». انتهای پیام/\n",
      "\n",
      "\n",
      "answer 5: \n",
      "title: صحبت‌های جالب صلاح و مانه با گلر  مصر فاش شد\n",
      "url: https://www.farsnews.ir/news/14001119000751/صحبت‌های-جالب-صلاح-و-مانه-با-گلر-مصر-فاش-شد\n",
      "2596\n",
      "\n",
      "به گزارش خبرگزاری فارس، تیم ملی فوتبال مصر یکشنبه گذشته با هدایت کارلوس کی روش در فینال جام ملت‌های آفریقا ۲۰۲۲ به مصاف سنگال رفت و در ضربات پنالتی با نتیجه ۴ بر ۲ شکست خورد تا از قهرمانی باز ماند. یکی از اتفاقات جالب در این بازی قبل از ضربات پنالتی محمد صلاح ستاره لیورپول با دروازه بان خودشان قبل از اینکه مانه همبازی اش ضربه پنالتی را بزند، صحبت کرد. در این حین سادیو مانه ستاره سنگال و همبازی صلاح وارد این گفت و گو شد. ابوجبل دروازه بان تیم ملی مصر از محتوای این گفت و گو پرده برداشت. ابوجبل در این زمینه، گفت: محمد صلاح به من گفت: مانه در پنالتی حتما به سمت راست شوت می‌زند. الان او پیش تو می‌آید چون می‌داند من چه چیزی به تو گفتم. بعد از صحبت‌های صلاح، بلافاصله مانه به من نزدیک شد و گفت: به سمت چپ شوت می‌زنم. بعد صلاح در پاسخ به این جواب مانه، گفت: می‌بینیم پنالتی را کجا می‌زنی. دو ستاره مسلمان تیم ملی مصر و سنگال بعد از این تقابل جذاب در فینال جام ملت‌های آفریقا طی روزهای آینده به لیورپول برخواهند گشت. انتهای پیام/ \n",
      "\n",
      "\n"
     ]
    }
   ],
   "source": [
    "final_answer=[]\n",
    "if(len(docs_ans)==0):\n",
    "    print(\"no answer found for your query\")  \n",
    "else:\n",
    "    if(len(docs_ans)>=5):\n",
    "        for i in range(5):\n",
    "            maximum=-10\n",
    "            max_id=0\n",
    "            for k in range(len(docs_ans)):\n",
    "                if(docs_ans[k]>maximum):\n",
    "                    maximum=docs_ans[k]\n",
    "                    max_id=docs_ans_no[k]       \n",
    "            final_answer.append(max_id)\n",
    "            docs_ans.remove(maximum)\n",
    "            docs_ans_no.remove(max_id)\n",
    "    else:\n",
    "         for i in range(len(docs_ans)):\n",
    "            maximum=0\n",
    "            max_id=0\n",
    "            for k in range(len(docs_ans)):\n",
    "                if(docs_ans[k]>maximum):\n",
    "                    maximum=docs_ans[k]\n",
    "                    max_id=docs_ans_no[k]\n",
    "            final_answer.append(max_id)\n",
    "            docs_ans.remove(maximum)\n",
    "            docs_ans_no.remove(max_id)\n",
    "    count=0    \n",
    "    for k in final_answer:\n",
    "        docid=int(k)\n",
    "        print(\"answer \"+str(count+1)+\": \")\n",
    "        print(\"title: \"+data_title[docid])\n",
    "        print(\"url: \"+data_url[docid])\n",
    "        print(docid)\n",
    "        print(data_content[docid])\n",
    "        count+=1"
   ]
  },
  {
   "cell_type": "code",
   "execution_count": null,
   "id": "8139bdbe",
   "metadata": {},
   "outputs": [],
   "source": [
    "# final_answer\n"
   ]
  },
  {
   "cell_type": "code",
   "execution_count": null,
   "id": "e0ece264",
   "metadata": {},
   "outputs": [],
   "source": []
  }
 ],
 "metadata": {
  "kernelspec": {
   "display_name": "Python 3",
   "language": "python",
   "name": "python3"
  },
  "language_info": {
   "codemirror_mode": {
    "name": "ipython",
    "version": 3
   },
   "file_extension": ".py",
   "mimetype": "text/x-python",
   "name": "python",
   "nbconvert_exporter": "python",
   "pygments_lexer": "ipython3",
   "version": "3.9.2"
  }
 },
 "nbformat": 4,
 "nbformat_minor": 5
}
