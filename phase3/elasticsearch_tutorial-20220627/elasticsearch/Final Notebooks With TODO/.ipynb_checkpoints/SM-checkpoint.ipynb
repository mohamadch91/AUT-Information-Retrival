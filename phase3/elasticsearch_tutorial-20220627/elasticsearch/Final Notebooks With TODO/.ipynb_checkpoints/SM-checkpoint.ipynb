{
 "cells": [
  {
   "cell_type": "markdown",
   "metadata": {
    "id": "y5vthoJMuBpn",
    "tags": []
   },
   "source": [
    "# Similarity Modulation"
   ]
  },
  {
   "cell_type": "markdown",
   "metadata": {
    "id": "-_FPiNrFMYmY"
   },
   "source": [
    "Here we are going to implement another similarity other that the BM25 which is the default in Elastic. We want you to implement a tf-idf similarity and test it with same queries in phase2 so that you can get a sense of how well your Elastic tf-idf works. Follow the instructions and fill where ever it says # TODO.  <br>\n",
    "You can contact me in case of any problems via Telegram: @mahvash_sp"
   ]
  },
  {
   "cell_type": "code",
   "execution_count": 1,
   "metadata": {
    "id": "EbwCj28juBps"
   },
   "outputs": [
    {
     "name": "stderr",
     "output_type": "stream",
     "text": [
      "/usr/lib/python3/dist-packages/requests/__init__.py:89: RequestsDependencyWarning: urllib3 (1.26.9) or chardet (3.0.4) doesn't match a supported version!\n",
      "  warnings.warn(\"urllib3 ({}) or chardet ({}) doesn't match a supported \"\n"
     ]
    }
   ],
   "source": [
    "from elasticsearch import Elasticsearch, helpers\n",
    "import json\n",
    "import warnings"
   ]
  },
  {
   "cell_type": "code",
   "execution_count": 2,
   "metadata": {
    "id": "BrwsaVsj5ubv"
   },
   "outputs": [],
   "source": [
    "# import data in json format\n",
    "file_name = 'IR_data_news_12k.json'\n",
    "\n",
    "with open(file_name) as f:\n",
    "    data = json.load(f)"
   ]
  },
  {
   "cell_type": "code",
   "execution_count": 3,
   "metadata": {
    "id": "y4xg-Rhk5ub0"
   },
   "outputs": [],
   "source": [
    "# Filter warnings\n",
    "warnings.filterwarnings('ignore')"
   ]
  },
  {
   "cell_type": "code",
   "execution_count": 4,
   "metadata": {
    "id": "XDs6hQbv5ub1",
    "outputId": "94331ba2-938f-4f1e-c915-3dd8afa6601a"
   },
   "outputs": [
    {
     "data": {
      "text/plain": [
       "dict_keys(['title', 'content', 'tags', 'date', 'url', 'category'])"
      ]
     },
     "execution_count": 4,
     "metadata": {},
     "output_type": "execute_result"
    }
   ],
   "source": [
    "# data keys\n",
    "data['0'].keys()"
   ]
  },
  {
   "cell_type": "markdown",
   "metadata": {
    "id": "tJ3Kf58zuBpv"
   },
   "source": [
    "After starting your Elasticsearch on your pc (localhost:9200 is the default) we have to connect to it via the following piece of code\n"
   ]
  },
  {
   "cell_type": "code",
   "execution_count": 6,
   "metadata": {
    "id": "_yyuk50M5ub2"
   },
   "outputs": [],
   "source": [
    "# Here we try to connect to Elastic\n",
    "es = Elasticsearch(\"http://localhost:9200\")"
   ]
  },
  {
   "cell_type": "markdown",
   "metadata": {
    "id": "fCY5fnsd5ub5",
    "tags": []
   },
   "source": [
    "## Create tf-idf Index"
   ]
  },
  {
   "cell_type": "markdown",
   "metadata": {
    "id": "8mA8caevuBpx",
    "tags": []
   },
   "source": [
    "### Create Index"
   ]
  },
  {
   "cell_type": "code",
   "execution_count": 7,
   "metadata": {
    "id": "KGcQKuO6uBpx"
   },
   "outputs": [],
   "source": [
    "# Name of index \n",
    "sm_index_name = 'tfidf_index'"
   ]
  },
  {
   "cell_type": "code",
   "execution_count": 8,
   "metadata": {
    "id": "jAO61WFi5ub6"
   },
   "outputs": [
    {
     "data": {
      "text/plain": [
       "ObjectApiResponse({'acknowledged': True, 'shards_acknowledged': True, 'index': 'tfidf_index'})"
      ]
     },
     "execution_count": 8,
     "metadata": {},
     "output_type": "execute_result"
    }
   ],
   "source": [
    "# Delete index if one does exist\n",
    "if es.indices.exists(index=sm_index_name):\n",
    "    es.indices.delete(index=sm_index_name)\n",
    "\n",
    "# Create index    \n",
    "es.indices.create(index=sm_index_name)"
   ]
  },
  {
   "cell_type": "markdown",
   "metadata": {
    "id": "nMipnzi9uBpy",
    "tags": []
   },
   "source": [
    "### Add documents"
   ]
  },
  {
   "cell_type": "markdown",
   "metadata": {
    "id": "ELD27cX9uBpz"
   },
   "source": [
    "In here we used the bulk doc formatter which was introduced in the first subsection of phase 3. <br>\n",
    "You can find out more in [Here](https://stackoverflow.com/questions/61580963/insert-multiple-documents-in-elasticsearch-bulk-doc-formatter)."
   ]
  },
  {
   "cell_type": "code",
   "execution_count": 9,
   "metadata": {
    "id": "xhA0gQXe5ub7"
   },
   "outputs": [],
   "source": [
    "\n",
    "from elasticsearch.helpers import bulk\n",
    "\n",
    "def bulk_sync():\n",
    "    actions = [\n",
    "        {\n",
    "            '_index': sm_index_name,\n",
    "            '_id':doc_id,\n",
    "            '_source': doc\n",
    "        } for doc_id,doc in data.items()\n",
    "    ]\n",
    "    bulk(es, actions)\n",
    "    \n",
    "    \n"
   ]
  },
  {
   "cell_type": "code",
   "execution_count": 10,
   "metadata": {
    "id": "2ak5DZ1TuBpz"
   },
   "outputs": [],
   "source": [
    "# run the function to add documents\n",
    "bulk_sync()"
   ]
  },
  {
   "cell_type": "code",
   "execution_count": 11,
   "metadata": {
    "id": "KxmyyKf9uBp0",
    "outputId": "633e18c6-3886-4161-c919-99afa7f13e92"
   },
   "outputs": [
    {
     "data": {
      "text/plain": [
       "ObjectApiResponse({'count': 8420, '_shards': {'total': 1, 'successful': 1, 'skipped': 0, 'failed': 0}})"
      ]
     },
     "execution_count": 11,
     "metadata": {},
     "output_type": "execute_result"
    }
   ],
   "source": [
    "# Check index\n",
    "es.count(index = sm_index_name)"
   ]
  },
  {
   "cell_type": "markdown",
   "metadata": {
    "id": "csyy2vtEuBp0",
    "tags": []
   },
   "source": [
    "### Configuring a similarity"
   ]
  },
  {
   "cell_type": "markdown",
   "metadata": {
    "id": "a2wum2BOuBp0"
   },
   "source": [
    "In order to configure a new similarity function you have to change the similarity from the settings api of the index. This can be done via the function 'put_settings' in python. What we do is to change the 'default' similarity function in Elastic so that it uses the replaced similarity instead. Type of this similarity is set to 'scripted' because tf-idf is not among the pre-defined similarity functions in Elastic anymore. As this similarity is a scripted type the source code of it must be written **by you** and passed to it.<br>\n",
    "> In order for the changes to be applied, first we close the index and change the settings and then reopen it<br>\n",
    "\n",
    "Write the tf-idf code in a string and pass it as a value to the \"source\" key. <br>\n",
    "You can find the variables needed in your code in [Here](https://www.elastic.co/guide/en/elasticsearch/painless/current/painless-similarity-context.html)."
   ]
  },
  {
   "cell_type": "code",
   "execution_count": 12,
   "metadata": {
    "id": "YzQJGr24uBp1"
   },
   "outputs": [],
   "source": [
    "# TODO : uncomment the code bellow, write the tf-idf code in here\n",
    "source_code = \"double tf = Math.sqrt(doc.freq); double idf = Math.log((field.docCount+1.0)/(term.docFreq+1.0)) + 1.0; double norm = 1/Math.sqrt(doc.length); return query.boost * tf * idf * norm;\""
   ]
  },
  {
   "cell_type": "code",
   "execution_count": 13,
   "metadata": {
    "id": "Wjdp3J3T5ub7",
    "outputId": "b41302cd-777d-4c80-ad4e-ca9865c271e9"
   },
   "outputs": [
    {
     "data": {
      "text/plain": [
       "ObjectApiResponse({'acknowledged': True, 'shards_acknowledged': True})"
      ]
     },
     "execution_count": 13,
     "metadata": {},
     "output_type": "execute_result"
    }
   ],
   "source": [
    "# closing the index\n",
    "es.indices.close(index=sm_index_name)\n",
    "\n",
    "# applying the settings\n",
    "es.indices.put_settings(index=sm_index_name, \n",
    "                            settings={\n",
    "                                \"similarity\": {\n",
    "                                      \"default\": {\n",
    "                                        \"type\": \"scripted\",\n",
    "                                        \"script\": {\n",
    "                                          # TODO : uncomment the code bellow and pass the suitable parameter\n",
    "                                          \"source\": source_code\n",
    "                                        }\n",
    "                                      }\n",
    "                                }\n",
    "                            }\n",
    "                       )\n",
    "\n",
    "# reopening the index\n",
    "es.indices.open(index=sm_index_name)"
   ]
  },
  {
   "cell_type": "markdown",
   "metadata": {
    "id": "ghBUm8V8uBp1",
    "tags": []
   },
   "source": [
    "### Query"
   ]
  },
  {
   "cell_type": "markdown",
   "metadata": {
    "id": "XfMeKtYiN-fu"
   },
   "source": [
    "In this section you have to test your index with same queries you tested phase2. The goal here is to observe how different or simillar your tf-idf Elastic implementation works."
   ]
  },
  {
   "cell_type": "code",
   "execution_count": 14,
   "metadata": {
    "executionInfo": {
     "elapsed": 4,
     "status": "ok",
     "timestamp": 1654237270680,
     "user": {
      "displayName": "Mahvash Siavashpour",
      "userId": "18425997334276185054"
     },
     "user_tz": -270
    },
    "id": "YWJ5w3unuBp2"
   },
   "outputs": [],
   "source": [
    "# A function that creates appropriate body for our match content type query\n",
    "def get_query(text):\n",
    "    body ={\n",
    "    \"query\":{  \n",
    "        \"match\" : {\n",
    "            \"content\" : text\n",
    "\n",
    "            }\n",
    "        }\n",
    "    }\n",
    "    \n",
    "    return body"
   ]
  },
  {
   "cell_type": "code",
   "execution_count": 24,
   "metadata": {
    "id": "7UJKTdWuuBp2"
   },
   "outputs": [],
   "source": [
    "queries = [\n",
    "    \"صهیونیست\", \" تحریم‌های هسته‌ای آمریکا علیه ایران\"\n",
    "]"
   ]
  },
  {
   "cell_type": "code",
   "execution_count": 25,
   "metadata": {
    "id": "d2jhW3twuBp2"
   },
   "outputs": [],
   "source": [
    "all_res_tfidf = []\n",
    "\n",
    "\n",
    "for q in queries:\n",
    "    res_tfidf = es.search(index=sm_index_name, body=get_query(q), explain=True)\n",
    "    all_res_tfidf.append(dict(res_tfidf))"
   ]
  },
  {
   "cell_type": "code",
   "execution_count": 26,
   "metadata": {
    "id": "gesmaSYHuBp3"
   },
   "outputs": [
    {
     "name": "stdout",
     "output_type": "stream",
     "text": [
      "صهیونیست\n",
      "https://www.farsnews.ir/news/14001002000158/محکومیت-حضور-کاروان-ورزشی-رژیم-صهیونستی-در-امارات-عکس\n",
      "https://www.farsnews.ir/news/14001102000416/ورزشکار-کویتی-دست-رد-به-سینه-صهیونیست‌ها-زد-عکس\n",
      "https://www.farsnews.ir/news/14001119000767/رونمایی-از-جایزه-خوش-خدمتی-سعودی‌ها-به-رژیم-صهیونیستی-در-جودو-عکس\n",
      "https://www.farsnews.ir/news/14001006000161/اقدام-حمایتی-عمان-از-فلسطین-سرود-و-پرچم-رژیم-اشغالگر-بایکوت-شد-عکس\n",
      "https://www.farsnews.ir/news/14000928000230/اتفاق-عجیب-در-ادامه-عادی-سازی-روابط-رژیم-اشغالگر-با-جهان-اسلام-مهدوی\n",
      "https://www.farsnews.ir/news/14000929000460/موج-اعتراضات-از-ایران-به-عراق-رسید-محکومیت-یونس-محمود-مثل-مهدوی‌کیا\n",
      "https://www.farsnews.ir/news/14001011000158/لابی-صهیونیست‌ها-در-ورزش-هشدار-جدی-به-مالزی-به-خاطر-حمایت-از-فلسطین\n",
      "https://www.farsnews.ir/news/14000929000102/مهدوی‌کیا-حامل-پرچم-رژیم-اشغالگر-شد-خشم-صهیونیست‌ها-از-ستارگان\n",
      "https://www.farsnews.ir/news/14001004000131/مهدوی‌کیا-به-جای-عذرخواهی-در-دام-صهیونیست‌ها-افتاد-سکوت-شائبه‌برانگیز\n",
      "https://www.farsnews.ir/news/14001209000606/شعار-تو-خالی-به-نام-جدایی-ورزش-از-سیاست-رفتار-متناقض-فیفا-در-مسئله\n",
      "----------------------------\n",
      " تحریم‌های هسته‌ای آمریکا علیه ایران\n",
      "https://www.farsnews.ir/news/14001222000450/توضیحات-یک-منبع-آگاه-درباره-وقفه-مذاکرات-وین\n",
      "https://www.farsnews.ir/news/14000821000097/راهبرد-مذاکره-هسته‌ای-نداریم-چگونه-تأمین-کننده-منافع-کشور-خواهد-بود-\n",
      "https://www.farsnews.ir/news/14000727000230/راهبردهای-احتمالی-آمریکا-در-قبال-تحریم‌ها-و-توصیه‌هایی-به-دولت-سیزدهم\n",
      "https://www.farsnews.ir/news/14000815000716/نتیجه-مذاکرات-جدید-هسته‌ای-باید-لغو-عملی-تحریم‌ها-باشد-آمریکا\n",
      "https://www.farsnews.ir/news/14001217000557/وقتی-افراد-مجنون-در-آمریکا-سر-کار-می‌آیند-دریافت-تضمین‌های-قوی-در-وین\n",
      "https://www.farsnews.ir/news/14000810000678/پیام-استکبارستیزی-ملت-ایران-امروز-بیشتر-از-گذشته-در-دنیا-شنیده-می‌شود\n",
      "https://www.farsnews.ir/news/14000812000792/نشانه‌های-افول-آمریکا-آشکار-شده-است\n",
      "https://www.farsnews.ir/news/14000924000246/وقتی-اصلاح‌طلبان-نمی‌فهمند-چه-چیزی-را-امضا-کرده‌اند-تغییر-زمین-بازی\n",
      "https://www.farsnews.ir/news/14000904000259/نماینده-مسیحیان-ارمنی-جنوب-ایران-در-مجلس-انگلیس-با-دادگاه‌های-ساختگی\n",
      "https://www.farsnews.ir/news/14000830000376/عضو-هیأت-رئیسه-مجلس-تا-لغو-تحریم‌ها-و-راستی‌آزمایی-به-تعهدات-برجامی\n",
      "----------------------------\n"
     ]
    }
   ],
   "source": [
    "for res, q in zip(all_res_tfidf, queries):\n",
    "    print(q)\n",
    "    for doc in res['hits']['hits']:\n",
    "        print(doc['_source']['url'])\n",
    "    print(\"----------------------------\")"
   ]
  },
  {
   "cell_type": "code",
   "execution_count": null,
   "metadata": {
    "id": "d8pbrwnquBp3"
   },
   "outputs": [],
   "source": []
  },
  {
   "cell_type": "code",
   "execution_count": null,
   "metadata": {
    "id": "Y098-SQQuBp3"
   },
   "outputs": [],
   "source": []
  }
 ],
 "metadata": {
  "colab": {
   "collapsed_sections": [],
   "name": "SM.ipynb",
   "provenance": []
  },
  "kernelspec": {
   "display_name": "Python 3 (ipykernel)",
   "language": "python",
   "name": "python3"
  },
  "language_info": {
   "codemirror_mode": {
    "name": "ipython",
    "version": 3
   },
   "file_extension": ".py",
   "mimetype": "text/x-python",
   "name": "python",
   "nbconvert_exporter": "python",
   "pygments_lexer": "ipython3",
   "version": "3.8.10"
  }
 },
 "nbformat": 4,
 "nbformat_minor": 1
}
